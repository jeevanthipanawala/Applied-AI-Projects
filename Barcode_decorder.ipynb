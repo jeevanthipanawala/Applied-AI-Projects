{
 "cells": [
  {
   "cell_type": "code",
   "execution_count": 23,
   "id": "d0a08e44-682e-493f-8653-3623a7a6d87b",
   "metadata": {},
   "outputs": [],
   "source": [
    "from PIL import Image\n",
    "# get the character when the bar_width is given\n",
    "def get_letter(width):\n",
    "    # we calculated the bar_width as ord('char')-ord('a')+1+1(added by the barcode algorithm)\n",
    "    # so ord('char')=width+ord('a)-1-1\n",
    "    char_unicode=width+ord('a')-2\n",
    "    letter=chr(char_unicode)\n",
    "    return letter\n",
    "\n",
    "def decode_string(image_path):\n",
    "    #Load the image and read pixels\n",
    "    image=Image.open(image_path)\n",
    "    pixels=image.load()\n",
    "    name=\"\"\n",
    "    # scan the middle row.Middle row=200\n",
    "    step=9\n",
    "    x=step # starting x position. Becuase in the encorder,I started drawing bars keeping 9 pixels balnk from the x axis for the clarity of the image\n",
    "    while x <image.width: \n",
    "        bar_width=0\n",
    "        for i in range(x,image.width): # scan horizontally\n",
    "            if pixels[i,200]==(0,0,0): # black pixel, there's a bar\n",
    "                bar_width+=1\n",
    "            else: # when black pixels end, that's is the end of a bar\n",
    "                break\n",
    "        \n",
    "        if bar_width==1:\n",
    "            name+=\" \"\n",
    "        elif bar_width>1:\n",
    "            char=get_letter(bar_width)\n",
    "            name+=char\n",
    "        x+=bar_width+step # next x position lastx+barwith+ white space width\n",
    "    print(name)\n",
    "            "
   ]
  },
  {
   "cell_type": "code",
   "execution_count": 24,
   "id": "97f84e14-043d-417f-a8f1-2dfed44fc679",
   "metadata": {},
   "outputs": [
    {
     "name": "stdout",
     "output_type": "stream",
     "text": [
      "abbas cheddad\n"
     ]
    }
   ],
   "source": [
    "decode_string(\"Output.png\")"
   ]
  },
  {
   "cell_type": "code",
   "execution_count": null,
   "id": "67369b33-2735-4212-a01e-73d3671998ec",
   "metadata": {},
   "outputs": [],
   "source": []
  }
 ],
 "metadata": {
  "kernelspec": {
   "display_name": "Python 3 (ipykernel)",
   "language": "python",
   "name": "python3"
  },
  "language_info": {
   "codemirror_mode": {
    "name": "ipython",
    "version": 3
   },
   "file_extension": ".py",
   "mimetype": "text/x-python",
   "name": "python",
   "nbconvert_exporter": "python",
   "pygments_lexer": "ipython3",
   "version": "3.12.4"
  }
 },
 "nbformat": 4,
 "nbformat_minor": 5
}
